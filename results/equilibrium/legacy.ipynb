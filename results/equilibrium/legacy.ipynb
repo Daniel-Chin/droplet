{
 "cells": [
  {
   "cell_type": "code",
   "execution_count": null,
   "metadata": {},
   "outputs": [],
   "source": [
    "from matplotlib import pyplot as plt\n",
    "import numpy as np\n",
    "from scipy.optimize import root"
   ]
  },
  {
   "cell_type": "code",
   "execution_count": null,
   "metadata": {},
   "outputs": [],
   "source": [
    "DT = .0001"
   ]
  },
  {
   "cell_type": "code",
   "execution_count": null,
   "metadata": {},
   "outputs": [],
   "source": [
    "def trace(theta, c, k):\n",
    "    ori = theta\n",
    "    x = 0\n",
    "    y = 0\n",
    "    Xs = []\n",
    "    Ys = []\n",
    "    i = 0\n",
    "    while x >= 0:\n",
    "        Xs.append(x)\n",
    "        Ys.append(y)\n",
    "        x += np.cos(ori) * DT\n",
    "        y += np.sin(ori) * DT\n",
    "        cvt = k * (c - y)\n",
    "        ori += cvt * DT\n",
    "        i += 1\n",
    "        if i > 20000:\n",
    "            raise ValueError\n",
    "    return Xs, Ys\n"
   ]
  },
  {
   "cell_type": "code",
   "execution_count": null,
   "metadata": {},
   "outputs": [],
   "source": [
    "Xs, Ys = trace(-1.37, .38, 12)\n",
    "plt.plot(Xs, Ys)\n",
    "plt.axis('equal');"
   ]
  },
  {
   "cell_type": "code",
   "execution_count": null,
   "metadata": {},
   "outputs": [],
   "source": [
    "def getEq(right_x, bot_y, c):\n",
    "    right_x /= 403   # pixel conversion\n",
    "    bot_y /= 403\n",
    "    def f(inp):\n",
    "        theta, k = inp\n",
    "        try:\n",
    "            Xs, Ys = trace(theta, c, k)\n",
    "        except ValueError:\n",
    "#             return [np.Inf, np.Inf]\n",
    "            return [np.Inf, -np.Inf]\n",
    "        loss = [0, 0]\n",
    "        loss[0] = np.max(Ys) - 0.7\n",
    "#         loss[1] = np.max(Xs) - right_x\n",
    "        loss[1] = np.min(Ys) - bot_y\n",
    "        return loss\n",
    "    return f"
   ]
  },
  {
   "cell_type": "code",
   "execution_count": null,
   "metadata": {},
   "outputs": [],
   "source": [
    "153 / 403"
   ]
  },
  {
   "cell_type": "code",
   "execution_count": null,
   "metadata": {},
   "outputs": [],
   "source": [
    "getEq(151, 68, .38)([-1.37, 12])"
   ]
  },
  {
   "cell_type": "code",
   "execution_count": null,
   "metadata": {},
   "outputs": [],
   "source": [
    "root(getEq(151, 68, .38), [-1.2, 14])"
   ]
  },
  {
   "cell_type": "code",
   "execution_count": null,
   "metadata": {},
   "outputs": [],
   "source": [
    "solve(151, 68, [-.5, 5, -6])"
   ]
  }
 ],
 "metadata": {
  "kernelspec": {
   "display_name": "Python 3",
   "language": "python",
   "name": "python3"
  },
  "language_info": {
   "codemirror_mode": {
    "name": "ipython",
    "version": 3
   },
   "file_extension": ".py",
   "mimetype": "text/x-python",
   "name": "python",
   "nbconvert_exporter": "python",
   "pygments_lexer": "ipython3",
   "version": "3.6.10"
  }
 },
 "nbformat": 4,
 "nbformat_minor": 2
}
